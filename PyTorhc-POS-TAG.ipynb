{
 "cells": [
  {
   "cell_type": "code",
   "execution_count": 45,
   "metadata": {},
   "outputs": [],
   "source": [
    "class Sentence():\n",
    "    def __init__(self):\n",
    "        self.tokens = []\n",
    "        self.pos_tags = []\n",
    "        self.grams = []"
   ]
  },
  {
   "cell_type": "code",
   "execution_count": 46,
   "metadata": {},
   "outputs": [],
   "source": [
    "def read_dataset(dataset, mode):\n",
    "    sentences = []\n",
    "    \n",
    "    with open(dataset, mode='r', encoding='utf-8') as data:\n",
    "        # Пропускаем заголовок\n",
    "        next(data)\n",
    "        \n",
    "        sentence = Sentence() # будем заполнять список предложений\n",
    "        \n",
    "        for row in data:\n",
    "            row = row.strip()\n",
    "            if len(row) != 0:\n",
    "                row = row.split('\\t')\n",
    "\n",
    "                if mode == 'train':\n",
    "                    _, _, token, pos_gram = row \n",
    "                    pos, gram = pos_gram.split('#')\n",
    "\n",
    "                else:\n",
    "                    _, _, token = row\n",
    "                    pos, gram = '<UNK>', '<UNK>'\n",
    "\n",
    "                sentence.tokens.append(token)\n",
    "                sentence.pos_tags.append(pos)\n",
    "                sentence.grams.append(gram)\n",
    "\n",
    "            else:\n",
    "                if len(sentence.tokens) > 0:\n",
    "                    sentences.append(sentence)\n",
    "                    sentence = Sentence()\n",
    "                \n",
    "        if len(sentence.tokens) > 0:\n",
    "            sentence.append(sentence)\n",
    "            \n",
    "    return sentences"
   ]
  },
  {
   "cell_type": "code",
   "execution_count": 47,
   "metadata": {},
   "outputs": [],
   "source": [
    "train = read_dataset('train.csv', 'train')\n",
    "test = read_dataset('test.csv', 'test')"
   ]
  },
  {
   "cell_type": "code",
   "execution_count": 48,
   "metadata": {},
   "outputs": [
    {
     "name": "stdout",
     "output_type": "stream",
     "text": [
      "А \t CONJ \t _ \t\n",
      "ведь \t PART \t _ \t\n",
      "для \t ADP \t _ \t\n",
      "конкретных \t ADJ \t Case=Gen|Degree=Pos|Number=Plur \t\n",
      "изделий \t NOUN \t Animacy=Inan|Case=Gen|Gender=Neut|Number=Plur \t\n",
      "зачастую \t ADV \t Degree=Pos \t\n",
      "нужен \t ADJ \t Degree=Pos|Gender=Masc|Number=Sing|Variant=Brev \t\n",
      "монокристалл \t NOUN \t Animacy=Inan|Case=Nom|Gender=Masc|Number=Sing \t\n",
      "не \t PART \t _ \t\n",
      "только \t PART \t _ \t\n",
      "крупный \t ADJ \t Case=Nom|Degree=Pos|Gender=Masc|Number=Sing \t\n",
      ", \t PUNCT \t _ \t\n",
      "но \t CONJ \t _ \t\n",
      "и \t PART \t _ \t\n",
      "заданной \t VERB \t Aspect=Perf|Case=Gen|Gender=Fem|Number=Sing|Tense=Past|VerbForm=Part|Voice=Pass \t\n",
      "формы \t NOUN \t Animacy=Inan|Case=Gen|Gender=Fem|Number=Sing \t\n",
      ", \t PUNCT \t _ \t\n",
      "например \t ADV \t Degree=Pos \t\n",
      "\" \t PUNCT \t _ \t\n",
      "стакан \t NOUN \t Animacy=Inan|Case=Nom|Gender=Masc|Number=Sing \t\n",
      "\" \t PUNCT \t _ \t\n",
      ", \t PUNCT \t _ \t\n",
      "\" \t PUNCT \t _ \t\n",
      "тройник \t NOUN \t Animacy=Inan|Case=Nom|Gender=Masc|Number=Sing \t\n",
      "\" \t PUNCT \t _ \t\n",
      "( \t PUNCT \t _ \t\n",
      "элемент \t NOUN \t Animacy=Inan|Case=Nom|Gender=Masc|Number=Sing \t\n",
      "трубопровода \t NOUN \t Animacy=Inan|Case=Gen|Gender=Masc|Number=Sing \t\n",
      ") \t PUNCT \t _ \t\n",
      "или \t CONJ \t _ \t\n",
      "еще \t ADV \t Degree=Pos \t\n",
      "сложнее \t ADJ \t Degree=Cmp \t\n",
      ". \t PUNCT \t _ \t\n"
     ]
    }
   ],
   "source": [
    "# Проверка корректности чтения датасета\n",
    "index = 0\n",
    "assert len(train[index].tokens) == len(train[index].tokens) == len(train[index].tokens)\n",
    "\n",
    "for idx in range(len(train[index].tokens)):\n",
    "    print(train[index].tokens[idx], '\\t', train[index].pos_tags[idx], '\\t', train[index].grams[idx], '\\t')"
   ]
  },
  {
   "cell_type": "code",
   "execution_count": 49,
   "metadata": {},
   "outputs": [
    {
     "name": "stdout",
     "output_type": "stream",
     "text": [
      "['А', 'ведь', 'для', 'конкретных', 'изделий', 'зачастую', 'нужен', 'монокристалл', 'не', 'только', 'крупный', ',', 'но', 'и', 'заданной', 'формы', ',', 'например', '\"', 'стакан', '\"', ',', '\"', 'тройник', '\"', '(', 'элемент', 'трубопровода', ')', 'или', 'еще', 'сложнее', '.']\n",
      "['CONJ', 'PART', 'ADP', 'ADJ', 'NOUN', 'ADV', 'ADJ', 'NOUN', 'PART', 'PART', 'ADJ', 'PUNCT', 'CONJ', 'PART', 'VERB', 'NOUN', 'PUNCT', 'ADV', 'PUNCT', 'NOUN', 'PUNCT', 'PUNCT', 'PUNCT', 'NOUN', 'PUNCT', 'PUNCT', 'NOUN', 'NOUN', 'PUNCT', 'CONJ', 'ADV', 'ADJ', 'PUNCT']\n"
     ]
    }
   ],
   "source": [
    "print(train[0].tokens)\n",
    "print(train[0].pos_tags)"
   ]
  },
  {
   "cell_type": "markdown",
   "metadata": {},
   "source": [
    "## Подготовка эмбеддингов"
   ]
  },
  {
   "cell_type": "code",
   "execution_count": 50,
   "metadata": {},
   "outputs": [],
   "source": [
    "#запомним все уникальные слова и POS-теги в корпусе\n",
    "vocab = set()\n",
    "tags = set()\n",
    "\n",
    "for sentence in train:\n",
    "    for token in sentence.tokens:\n",
    "        vocab.add(token)\n",
    "    for tag in sentence.pos_tags:\n",
    "        tags.add(tag)"
   ]
  },
  {
   "cell_type": "code",
   "execution_count": 51,
   "metadata": {},
   "outputs": [],
   "source": [
    "#Загрузите эмбеддинги c https://nlp.stanford.edu/projects/glove/ или другие, которые вам нравятся и пропишите путь к ним\n",
    "\n",
    "from navec import Navec\n",
    "import numpy as np\n",
    "import io\n",
    "from tqdm import tqdm\n",
    "\n",
    "word_embeddings_path = 'navec_hudlit_v1_12B_500K_300d_100q.tar'\n",
    "embeddings_model = Navec.load(word_embeddings_path)"
   ]
  },
  {
   "cell_type": "code",
   "execution_count": 42,
   "metadata": {},
   "outputs": [
    {
     "name": "stderr",
     "output_type": "stream",
     "text": [
      "100%|██████████████████████████████████████████████████████████████████████| 107487/107487 [00:00<00:00, 115757.99it/s]"
     ]
    },
    {
     "name": "stdout",
     "output_type": "stream",
     "text": [
      "\n",
      "navec знает 94190 слов\n"
     ]
    },
    {
     "name": "stderr",
     "output_type": "stream",
     "text": [
      "\n"
     ]
    }
   ],
   "source": [
    "known_words_count = 0\n",
    "unk_tags = []\n",
    "embeddings = np.zeros((len(vocab), 300))\n",
    "\n",
    "for idx, word in tqdm(enumerate(vocab), total=len(vocab)):\n",
    "    word = word.lower()\n",
    "    if word in embeddings_model:\n",
    "        embeddings[idx] = embeddings_model[word]\n",
    "        known_words_count += 1\n",
    "    else:\n",
    "        unk_tags.append(word)\n",
    "print()\n",
    "print(f'navec знает {known_words_count} слов')"
   ]
  },
  {
   "cell_type": "code",
   "execution_count": 66,
   "metadata": {},
   "outputs": [],
   "source": [
    "import torch\n",
    "import torch.nn as nn\n",
    "import torch.nn.functional as F\n",
    "import torch.optim as optim\n",
    "\n",
    "class LSTM_Tagger():\n",
    "    def __init__(self, embeddings, embedding_dim, hidden_dim, vocab_size, target_size):\n",
    "        super(LSTM_Tagger, self).__init__()\n",
    "        \n",
    "        self.hidden_dim = hidden_dim\n",
    "        self.embeddings = nn.Embedding.from_pretrained(torch.FloatTensor(embeddings), freeze=False)\n",
    "        self.lstm = nn.LSTM(embedding_dim, hidden_dim)\n",
    "        self.hidden_to_tag = nn.Linear(hidden_dim, target_size)\n",
    "    \n",
    "    def forward(self, sentence):\n",
    "        word_embeddings = self.embeddings(sentence)\n",
    "        lstm_out, _ = self.lstm(word_embeddings.view(len(sentence), 1, -1))\n",
    "        tag_space = self.hidden_to_tag(lstm_out.view(len(sentence), -1))\n",
    "        tag_scores = F.log_softmax(tag_space, dim=1)\n",
    "        return tag_scores"
   ]
  },
  {
   "cell_type": "code",
   "execution_count": 67,
   "metadata": {},
   "outputs": [],
   "source": [
    "def prepare_tensor(sentence):\n",
    "    \"\"\"Input: takes in a list of words, and a dictionary containing the index of the words\n",
    "    Output: a tensor containing the indexes of the word\"\"\"\n",
    "    idxs = [embeddings_model[token] for token in sentence]\n",
    "    return torch.tensor(idxs, dtype=torch.long)"
   ]
  },
  {
   "cell_type": "code",
   "execution_count": 68,
   "metadata": {},
   "outputs": [],
   "source": [
    "class Trainer:\n",
    "    def __init__(self, model, train_data, dev_data, lr=2e-5):\n",
    "        self.criterion = nn.CrossEntropyLoss()\n",
    "        self.optimizer = torch.optim.Adam(model.parameters(), lr=lr)\n",
    "        self.train_data = train_data\n",
    "        self.dev_data = dev_data\n",
    "        self.model = model\n",
    "\n",
    "    def train_epoch(self):\n",
    "        self.model.train()\n",
    "        total_loss = 0\n",
    "        total = 0\n",
    "        correct = 0\n",
    "        for sentence in train_data:\n",
    "            self.optimizer.zero_grad()\n",
    "            logits = self.model(sentence.tokens)\n",
    "            loss = self.criterion(logits.view(-1, logits.size(-1)), sentence.pos_tags.view(-1))\n",
    "            loss.backward()\n",
    "            self.optimizer.step()\n",
    "            total_loss += loss.item()\n",
    "\n",
    "            mask = (tokens != 0).to(torch.long)\n",
    "            pred = torch.argmax(logits, dim=-1)\n",
    "            correct += ((pred == sentence.pos_tags)*mask).sum().item()\n",
    "            total += mask.sum().item()\n",
    "\n",
    "            print('\\rLoss: %4f, Accuracy: %4f, Batch: %d of %d' % (\n",
    "                total_loss / (batch_idx + 1), correct / total, batch_idx + 1, len(self.train_data)\n",
    "            ), end='')\n",
    "        print()\n",
    "\n",
    "    def test_epoch(self):\n",
    "        with torch.no_grad():\n",
    "            self.model.eval()\n",
    "            total_loss = 0\n",
    "            total = 0\n",
    "            correct = 0\n",
    "            for batch_idx, (tokens, pos_tags, _) in enumerate(self.dev_iterator):\n",
    "                logits = self.model(tokens)\n",
    "                loss = self.criterion(logits.view(-1, logits.size(-1)), pos_tags.view(-1))\n",
    "                total_loss += loss.item()\n",
    "\n",
    "                mask = (tokens != 0).to(torch.long)\n",
    "                pred = torch.argmax(logits, dim=-1)\n",
    "                correct += ((pred == pos_tags) * mask).sum().item()\n",
    "                total += mask.sum().item()\n",
    "\n",
    "                print('\\rLoss: %4f, Accuracy: %4f, Batch: %d of %d' % (\n",
    "                    total_loss / (batch_idx + 1), correct / total, batch_idx + 1, len(self.dev_iterator)\n",
    "                ), end='')\n",
    "            print()"
   ]
  },
  {
   "cell_type": "code",
   "execution_count": 69,
   "metadata": {},
   "outputs": [
    {
     "data": {
      "text/plain": [
       "48171"
      ]
     },
     "execution_count": 69,
     "metadata": {},
     "output_type": "execute_result"
    }
   ],
   "source": [
    "len(train)"
   ]
  },
  {
   "cell_type": "code",
   "execution_count": 71,
   "metadata": {},
   "outputs": [
    {
     "ename": "AttributeError",
     "evalue": "'LSTM_Tagger' object has no attribute 'parameters'",
     "output_type": "error",
     "traceback": [
      "\u001b[1;31m---------------------------------------------------------------------------\u001b[0m",
      "\u001b[1;31mAttributeError\u001b[0m                            Traceback (most recent call last)",
      "\u001b[1;32m<ipython-input-71-c3737d9ee2ae>\u001b[0m in \u001b[0;36m<module>\u001b[1;34m\u001b[0m\n\u001b[0;32m      2\u001b[0m \u001b[0mdev\u001b[0m \u001b[1;33m=\u001b[0m \u001b[0mtrain\u001b[0m\u001b[1;33m[\u001b[0m\u001b[1;36m40000\u001b[0m\u001b[1;33m:\u001b[0m\u001b[1;33m]\u001b[0m\u001b[1;33m\u001b[0m\u001b[1;33m\u001b[0m\u001b[0m\n\u001b[0;32m      3\u001b[0m \u001b[0mtrain\u001b[0m \u001b[1;33m=\u001b[0m \u001b[0mtrain\u001b[0m\u001b[1;33m[\u001b[0m\u001b[1;33m:\u001b[0m\u001b[1;36m40000\u001b[0m\u001b[1;33m]\u001b[0m\u001b[1;33m\u001b[0m\u001b[1;33m\u001b[0m\u001b[0m\n\u001b[1;32m----> 4\u001b[1;33m \u001b[0mtrainer\u001b[0m \u001b[1;33m=\u001b[0m \u001b[0mTrainer\u001b[0m\u001b[1;33m(\u001b[0m\u001b[0mmodel\u001b[0m\u001b[1;33m,\u001b[0m \u001b[0mtrain\u001b[0m\u001b[1;33m,\u001b[0m \u001b[0mdev\u001b[0m\u001b[1;33m)\u001b[0m\u001b[1;33m\u001b[0m\u001b[1;33m\u001b[0m\u001b[0m\n\u001b[0m",
      "\u001b[1;32m<ipython-input-68-68f9cf63e2c2>\u001b[0m in \u001b[0;36m__init__\u001b[1;34m(self, model, train_data, dev_data, lr)\u001b[0m\n\u001b[0;32m      2\u001b[0m     \u001b[1;32mdef\u001b[0m \u001b[0m__init__\u001b[0m\u001b[1;33m(\u001b[0m\u001b[0mself\u001b[0m\u001b[1;33m,\u001b[0m \u001b[0mmodel\u001b[0m\u001b[1;33m,\u001b[0m \u001b[0mtrain_data\u001b[0m\u001b[1;33m,\u001b[0m \u001b[0mdev_data\u001b[0m\u001b[1;33m,\u001b[0m \u001b[0mlr\u001b[0m\u001b[1;33m=\u001b[0m\u001b[1;36m2e-5\u001b[0m\u001b[1;33m)\u001b[0m\u001b[1;33m:\u001b[0m\u001b[1;33m\u001b[0m\u001b[1;33m\u001b[0m\u001b[0m\n\u001b[0;32m      3\u001b[0m         \u001b[0mself\u001b[0m\u001b[1;33m.\u001b[0m\u001b[0mcriterion\u001b[0m \u001b[1;33m=\u001b[0m \u001b[0mnn\u001b[0m\u001b[1;33m.\u001b[0m\u001b[0mCrossEntropyLoss\u001b[0m\u001b[1;33m(\u001b[0m\u001b[1;33m)\u001b[0m\u001b[1;33m\u001b[0m\u001b[1;33m\u001b[0m\u001b[0m\n\u001b[1;32m----> 4\u001b[1;33m         \u001b[0mself\u001b[0m\u001b[1;33m.\u001b[0m\u001b[0moptimizer\u001b[0m \u001b[1;33m=\u001b[0m \u001b[0mtorch\u001b[0m\u001b[1;33m.\u001b[0m\u001b[0moptim\u001b[0m\u001b[1;33m.\u001b[0m\u001b[0mAdam\u001b[0m\u001b[1;33m(\u001b[0m\u001b[0mmodel\u001b[0m\u001b[1;33m.\u001b[0m\u001b[0mparameters\u001b[0m\u001b[1;33m(\u001b[0m\u001b[1;33m)\u001b[0m\u001b[1;33m,\u001b[0m \u001b[0mlr\u001b[0m\u001b[1;33m=\u001b[0m\u001b[0mlr\u001b[0m\u001b[1;33m)\u001b[0m\u001b[1;33m\u001b[0m\u001b[1;33m\u001b[0m\u001b[0m\n\u001b[0m\u001b[0;32m      5\u001b[0m         \u001b[0mself\u001b[0m\u001b[1;33m.\u001b[0m\u001b[0mtrain_data\u001b[0m \u001b[1;33m=\u001b[0m \u001b[0mtrain_data\u001b[0m\u001b[1;33m\u001b[0m\u001b[1;33m\u001b[0m\u001b[0m\n\u001b[0;32m      6\u001b[0m         \u001b[0mself\u001b[0m\u001b[1;33m.\u001b[0m\u001b[0mdev_data\u001b[0m \u001b[1;33m=\u001b[0m \u001b[0mdev_data\u001b[0m\u001b[1;33m\u001b[0m\u001b[1;33m\u001b[0m\u001b[0m\n",
      "\u001b[1;31mAttributeError\u001b[0m: 'LSTM_Tagger' object has no attribute 'parameters'"
     ]
    }
   ],
   "source": [
    "model = LSTM_Tagger(embeddings, 300, 100, len(vocab), len(tags))\n",
    "dev = train[40000:]\n",
    "train = train[:40000]\n",
    "trainer = Trainer(model, train, dev)"
   ]
  },
  {
   "cell_type": "code",
   "execution_count": 73,
   "metadata": {},
   "outputs": [
    {
     "ename": "AttributeError",
     "evalue": "'LSTM_Tagger' object has no attribute 'parameters'",
     "output_type": "error",
     "traceback": [
      "\u001b[1;31m---------------------------------------------------------------------------\u001b[0m",
      "\u001b[1;31mAttributeError\u001b[0m                            Traceback (most recent call last)",
      "\u001b[1;32m<ipython-input-73-60da212f06f7>\u001b[0m in \u001b[0;36m<module>\u001b[1;34m\u001b[0m\n\u001b[1;32m----> 1\u001b[1;33m \u001b[0mmodel\u001b[0m\u001b[1;33m.\u001b[0m\u001b[0mparameters\u001b[0m\u001b[1;33m\u001b[0m\u001b[1;33m\u001b[0m\u001b[0m\n\u001b[0m",
      "\u001b[1;31mAttributeError\u001b[0m: 'LSTM_Tagger' object has no attribute 'parameters'"
     ]
    }
   ],
   "source": [
    "model.parameters"
   ]
  },
  {
   "cell_type": "code",
   "execution_count": null,
   "metadata": {},
   "outputs": [],
   "source": []
  }
 ],
 "metadata": {
  "kernelspec": {
   "display_name": "Python 3",
   "language": "python",
   "name": "python3"
  },
  "language_info": {
   "codemirror_mode": {
    "name": "ipython",
    "version": 3
   },
   "file_extension": ".py",
   "mimetype": "text/x-python",
   "name": "python",
   "nbconvert_exporter": "python",
   "pygments_lexer": "ipython3",
   "version": "3.8.0"
  },
  "latex_envs": {
   "LaTeX_envs_menu_present": true,
   "autoclose": false,
   "autocomplete": true,
   "bibliofile": "biblio.bib",
   "cite_by": "apalike",
   "current_citInitial": 1,
   "eqLabelWithNumbers": true,
   "eqNumInitial": 1,
   "hotkeys": {
    "equation": "Ctrl-E",
    "itemize": "Ctrl-I"
   },
   "labels_anchors": false,
   "latex_user_defs": false,
   "report_style_numbering": false,
   "user_envs_cfg": false
  },
  "varInspector": {
   "cols": {
    "lenName": 16,
    "lenType": 16,
    "lenVar": 40
   },
   "kernels_config": {
    "python": {
     "delete_cmd_postfix": "",
     "delete_cmd_prefix": "del ",
     "library": "var_list.py",
     "varRefreshCmd": "print(var_dic_list())"
    },
    "r": {
     "delete_cmd_postfix": ") ",
     "delete_cmd_prefix": "rm(",
     "library": "var_list.r",
     "varRefreshCmd": "cat(var_dic_list()) "
    }
   },
   "types_to_exclude": [
    "module",
    "function",
    "builtin_function_or_method",
    "instance",
    "_Feature"
   ],
   "window_display": false
  }
 },
 "nbformat": 4,
 "nbformat_minor": 2
}
