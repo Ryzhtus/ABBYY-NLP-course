{
 "cells": [
  {
   "cell_type": "markdown",
   "metadata": {},
   "source": [
    "# Морфология 4\n",
    "В этом ноутбуке описана подготовка данных для задачи POS-tagging. А также пара простых моделей на keras, решающих данную задачу. Оригинальная задача и ноутбук есть в контесте: https://www.kaggle.com/c/rupos2018/overview"
   ]
  },
  {
   "cell_type": "markdown",
   "metadata": {},
   "source": [
    "## Часть 1. Загрузка корпуса\n",
    "Здесь мы прочитаем корпуса из csv и разложим их по спискам."
   ]
  },
  {
   "cell_type": "code",
   "execution_count": 1,
   "metadata": {},
   "outputs": [],
   "source": [
    "class Sentence():\n",
    "    def __init__(self):\n",
    "        self.tokens = []\n",
    "        self.pos_tags = []\n",
    "        self.grams = []"
   ]
  },
  {
   "cell_type": "code",
   "execution_count": 19,
   "metadata": {
    "_uuid": "fdbea001cf6b2aa7b763b4836050dc4fdabb6457"
   },
   "outputs": [],
   "source": [
    "def read_dataset(dataset, mode):\n",
    "    sentences = []\n",
    "    \n",
    "    with open(dataset, mode='r', encoding='utf-8') as data:\n",
    "        # Пропускаем заголовок\n",
    "        next(data)\n",
    "        \n",
    "        sentence = Sentence() # будем заполнять список предложений\n",
    "        \n",
    "        for row in data:\n",
    "            row = row.strip()\n",
    "            if len(row) != 0:\n",
    "                row = row.split('\\t')\n",
    "\n",
    "                if mode == 'train':\n",
    "                    _, _, token, pos_gram = row \n",
    "                    pos, gram = pos_gram.split('#')\n",
    "\n",
    "                else:\n",
    "                    _, _, token = row\n",
    "                    pos, gram = '<UNK>', '<UNK>'\n",
    "\n",
    "                sentence.tokens.append(token)\n",
    "                sentence.pos_tags.append(pos)\n",
    "                sentence.grams.append(gram)\n",
    "\n",
    "            else:\n",
    "                if len(sentence.tokens) > 0:\n",
    "                    sentences.append(sentence)\n",
    "                    sentence = Sentence()\n",
    "                \n",
    "        if len(sentence.tokens) > 0:\n",
    "            sentence.append(sentence)\n",
    "            \n",
    "    return sentences"
   ]
  },
  {
   "cell_type": "code",
   "execution_count": 20,
   "metadata": {
    "_uuid": "fe4e1691bc5ef95abc711c5f403b27b897647878",
    "scrolled": true
   },
   "outputs": [],
   "source": [
    "train = read_dataset('train.csv', 'train')\n",
    "test = read_dataset('test.csv', 'test')"
   ]
  },
  {
   "cell_type": "code",
   "execution_count": 27,
   "metadata": {},
   "outputs": [
    {
     "name": "stdout",
     "output_type": "stream",
     "text": [
      "['А', 'ведь', 'для', 'конкретных', 'изделий', 'зачастую', 'нужен', 'монокристалл', 'не', 'только', 'крупный', ',', 'но', 'и', 'заданной', 'формы', ',', 'например', '\"', 'стакан', '\"', ',', '\"', 'тройник', '\"', '(', 'элемент', 'трубопровода', ')', 'или', 'еще', 'сложнее', '.'] \n",
      " ['CONJ', 'PART', 'ADP', 'ADJ', 'NOUN', 'ADV', 'ADJ', 'NOUN', 'PART', 'PART', 'ADJ', 'PUNCT', 'CONJ', 'PART', 'VERB', 'NOUN', 'PUNCT', 'ADV', 'PUNCT', 'NOUN', 'PUNCT', 'PUNCT', 'PUNCT', 'NOUN', 'PUNCT', 'PUNCT', 'NOUN', 'NOUN', 'PUNCT', 'CONJ', 'ADV', 'ADJ', 'PUNCT'] \n",
      " ['_', '_', '_', 'Case=Gen|Degree=Pos|Number=Plur', 'Animacy=Inan|Case=Gen|Gender=Neut|Number=Plur', 'Degree=Pos', 'Degree=Pos|Gender=Masc|Number=Sing|Variant=Brev', 'Animacy=Inan|Case=Nom|Gender=Masc|Number=Sing', '_', '_', 'Case=Nom|Degree=Pos|Gender=Masc|Number=Sing', '_', '_', '_', 'Aspect=Perf|Case=Gen|Gender=Fem|Number=Sing|Tense=Past|VerbForm=Part|Voice=Pass', 'Animacy=Inan|Case=Gen|Gender=Fem|Number=Sing', '_', 'Degree=Pos', '_', 'Animacy=Inan|Case=Nom|Gender=Masc|Number=Sing', '_', '_', '_', 'Animacy=Inan|Case=Nom|Gender=Masc|Number=Sing', '_', '_', 'Animacy=Inan|Case=Nom|Gender=Masc|Number=Sing', 'Animacy=Inan|Case=Gen|Gender=Masc|Number=Sing', '_', '_', 'Degree=Pos', 'Degree=Cmp', '_']\n",
      "33 \n",
      " 33 \n",
      " 33\n",
      "['Опыт', 'удался', ':', 'через', 'несколько', 'недель', 'после', 'операции', 'Уорвик', 'мог', '\"', 'силой', 'мысли', '\"', 'управлять', 'электрической', 'инвалидной', 'коляской', '.'] \n",
      " ['NOUN', 'VERB', 'PUNCT', 'ADP', 'NUM', 'NOUN', 'ADP', 'NOUN', 'PROPN', 'VERB', 'PUNCT', 'NOUN', 'NOUN', 'PUNCT', 'VERB', 'ADJ', 'ADJ', 'NOUN', 'PUNCT'] \n",
      " ['Animacy=Inan|Case=Nom|Gender=Masc|Number=Sing', 'Aspect=Perf|Gender=Masc|Mood=Ind|Number=Sing|Tense=Past|VerbForm=Fin|Voice=Act', '_', '_', 'Animacy=Inan|Case=Acc', 'Animacy=Inan|Case=Gen|Gender=Fem|Number=Plur', '_', 'Animacy=Inan|Case=Gen|Gender=Fem|Number=Sing', 'Animacy=Anim|Case=Nom|Gender=Masc|Number=Sing', 'Aspect=Imp|Gender=Masc|Mood=Ind|Number=Sing|Tense=Past|VerbForm=Fin|Voice=Act', '_', 'Animacy=Inan|Case=Ins|Gender=Fem|Number=Sing', 'Animacy=Inan|Case=Gen|Gender=Fem|Number=Sing', '_', 'Aspect=Imp|VerbForm=Inf', 'Case=Ins|Degree=Pos|Gender=Fem|Number=Sing', 'Case=Ins|Degree=Pos|Gender=Fem|Number=Sing', 'Animacy=Inan|Case=Ins|Gender=Fem|Number=Sing', '_']\n",
      "33 \n",
      " 33 \n",
      " 33\n",
      "['Так', 'говорят', 'об', 'идеологии', ':', 'тонко', 'и', 'эффективно', 'вкладывать', 'людям', 'в', 'голову', 'определенные', 'идеи', '.'] \n",
      " ['ADV', 'VERB', 'ADP', 'NOUN', 'PUNCT', 'ADV', 'CONJ', 'ADV', 'VERB', 'NOUN', 'ADP', 'NOUN', 'ADJ', 'NOUN', 'PUNCT'] \n",
      " ['Degree=Pos', 'Aspect=Imp|Mood=Ind|Number=Plur|Person=3|Tense=Pres|VerbForm=Fin|Voice=Act', '_', 'Animacy=Inan|Case=Loc|Gender=Fem|Number=Sing', '_', 'Degree=Pos', '_', 'Degree=Pos', 'Aspect=Imp|VerbForm=Inf', 'Animacy=Anim|Case=Dat|Gender=Masc|Number=Plur', '_', 'Animacy=Inan|Case=Acc|Gender=Fem|Number=Sing', 'Animacy=Inan|Case=Acc|Degree=Pos|Number=Plur', 'Animacy=Inan|Case=Acc|Gender=Fem|Number=Plur', '_']\n",
      "33 \n",
      " 33 \n",
      " 33\n",
      "['Мы', 'рылись', 'в', 'земле', 'и', ',', 'если', 'находили', 'пропущенную', 'картофелину', ',', 'тут', 'же', 'съедали', '.'] \n",
      " ['PRON', 'VERB', 'ADP', 'NOUN', 'CONJ', 'PUNCT', 'SCONJ', 'VERB', 'VERB', 'NOUN', 'PUNCT', 'ADV', 'PART', 'VERB', 'PUNCT'] \n",
      " ['Case=Nom|Number=Plur|Person=1', 'Aspect=Imp|Mood=Ind|Number=Plur|Tense=Past|VerbForm=Fin|Voice=Act', '_', 'Animacy=Inan|Case=Loc|Gender=Fem|Number=Sing', '_', '_', '_', 'Aspect=Imp|Mood=Ind|Number=Plur|Tense=Past|VerbForm=Fin|Voice=Act', 'Aspect=Perf|Case=Acc|Gender=Fem|Number=Sing|Tense=Past|VerbForm=Part|Voice=Pass', 'Animacy=Inan|Case=Acc|Gender=Fem|Number=Sing', '_', 'Degree=Pos', '_', 'Aspect=Imp|Mood=Ind|Number=Plur|Tense=Past|VerbForm=Fin|Voice=Act', '_']\n",
      "33 \n",
      " 33 \n",
      " 33\n",
      "['Официальное', 'сообщение', 'ОПЕК', 'на', 'этот', 'счет', 'возможно', 'уже', 'сегодня', '.'] \n",
      " ['ADJ', 'NOUN', 'PROPN', 'ADP', 'DET', 'NOUN', 'ADJ', 'ADV', 'ADV', 'PUNCT'] \n",
      " ['Case=Nom|Degree=Pos|Gender=Neut|Number=Sing', 'Animacy=Inan|Case=Nom|Gender=Neut|Number=Sing', 'Animacy=Inan|Case=Gen|Gender=Fem|Number=Sing', '_', 'Case=Acc|Gender=Masc|Number=Sing', 'Animacy=Inan|Case=Acc|Gender=Masc|Number=Sing', 'Degree=Pos|Gender=Neut|Number=Sing|Variant=Brev', 'Degree=Pos', 'Degree=Pos', '_']\n",
      "33 \n",
      " 33 \n",
      " 33\n",
      "['Наверное', ',', 'даже', 'стоит', 'их', 'расширить', 'и', 'выбрать', 'новые', 'направления', '.'] \n",
      " ['ADV', 'PUNCT', 'PART', 'VERB', 'PRON', 'VERB', 'CONJ', 'VERB', 'ADJ', 'NOUN', 'PUNCT'] \n",
      " ['Degree=Pos', '_', '_', 'Aspect=Imp|Mood=Ind|Number=Sing|Person=3|Tense=Pres|VerbForm=Fin|Voice=Act', 'Case=Acc|Number=Plur|Person=3', 'Aspect=Perf|VerbForm=Inf', '_', 'Aspect=Perf|VerbForm=Inf', 'Animacy=Inan|Case=Acc|Degree=Pos|Number=Plur', 'Animacy=Inan|Case=Acc|Gender=Neut|Number=Plur', '_']\n",
      "33 \n",
      " 33 \n",
      " 33\n",
      "['С_помощью', 'HEND', 'под', 'метровым', 'слоем', 'марсианского', 'песка', 'обнаружены', 'огромные', 'территории', 'залегания', 'вечной', 'мерзлоты', '.'] \n",
      " ['ADP', 'PROPN', 'ADP', 'ADJ', 'NOUN', 'ADJ', 'NOUN', 'VERB', 'ADJ', 'NOUN', 'NOUN', 'ADJ', 'NOUN', 'PUNCT'] \n",
      " ['_', '_', '_', 'Case=Ins|Degree=Pos|Gender=Masc|Number=Sing', 'Animacy=Inan|Case=Ins|Gender=Masc|Number=Sing', 'Case=Gen|Degree=Pos|Gender=Masc|Number=Sing', 'Animacy=Inan|Case=Gen|Gender=Masc|Number=Sing', 'Aspect=Perf|Number=Plur|Tense=Past|Variant=Brev|VerbForm=Part|Voice=Pass', 'Case=Nom|Degree=Pos|Number=Plur', 'Animacy=Inan|Case=Nom|Gender=Fem|Number=Plur', 'Animacy=Inan|Case=Gen|Gender=Neut|Number=Sing', 'Case=Gen|Degree=Pos|Gender=Fem|Number=Sing', 'Animacy=Inan|Case=Gen|Gender=Fem|Number=Sing', '_']\n",
      "33 \n",
      " 33 \n",
      " 33\n",
      "['Непонятно', 'только', '-', 'зачем', '?'] \n",
      " ['ADJ', 'PART', 'PUNCT', 'ADV', 'PUNCT'] \n",
      " ['Degree=Pos|Gender=Neut|Number=Sing|Variant=Brev', '_', '_', 'Degree=Pos', '_']\n",
      "33 \n",
      " 33 \n",
      " 33\n",
      "['Акции', 'ведущего', 'авиаперевозчика', 'страны', 'Singapore', 'Airlines', 'Ltd', 'за', 'неделю', 'подешевели', 'на', '12', '%', '.'] \n",
      " ['NOUN', 'ADJ', 'NOUN', 'NOUN', 'PROPN', 'PROPN', 'PROPN', 'ADP', 'NOUN', 'VERB', 'ADP', 'NUM', 'NOUN', 'PUNCT'] \n",
      " ['Animacy=Inan|Case=Nom|Gender=Fem|Number=Plur', 'Case=Gen|Degree=Pos|Gender=Masc|Number=Sing', 'Animacy=Anim|Case=Gen|Gender=Masc|Number=Sing', 'Animacy=Inan|Case=Gen|Gender=Fem|Number=Sing', '_', '_', '_', '_', 'Animacy=Inan|Case=Acc|Gender=Fem|Number=Sing', 'Aspect=Perf|Mood=Ind|Number=Plur|Tense=Past|VerbForm=Fin|Voice=Act', '_', '_', 'Animacy=Inan|Case=Gen|Gender=Masc|Number=Plur', '_']\n",
      "33 \n",
      " 33 \n",
      " 33\n",
      "['Как', 'передает', 'корреспондент', 'РИА', '\"', 'Новости', '\"', ',', 'парламентарии', 'намерены', 'обратиться', 'к', 'конгрессу', 'США', 'и', 'заявить', 'о', 'своем', 'негативном', 'отношении', 'к', 'действиям', 'американской', 'администрации', '.'] \n",
      " ['SCONJ', 'VERB', 'NOUN', 'PROPN', 'PUNCT', 'PROPN', 'PUNCT', 'PUNCT', 'NOUN', 'ADJ', 'VERB', 'ADP', 'NOUN', 'PROPN', 'CONJ', 'VERB', 'ADP', 'DET', 'ADJ', 'NOUN', 'ADP', 'NOUN', 'ADJ', 'NOUN', 'PUNCT'] \n",
      " ['_', 'Aspect=Imp|Mood=Ind|Number=Sing|Person=3|Tense=Pres|VerbForm=Fin|Voice=Act', 'Animacy=Anim|Case=Nom|Gender=Masc|Number=Sing', 'Animacy=Inan|Case=Gen|Gender=Neut|Number=Sing', '_', 'Animacy=Inan|Case=Nom|Gender=Fem|Number=Plur', '_', '_', 'Animacy=Anim|Case=Nom|Gender=Masc|Number=Plur', 'Degree=Pos|Number=Plur|Variant=Brev', 'Aspect=Perf|VerbForm=Inf', '_', 'Animacy=Inan|Case=Dat|Gender=Masc|Number=Sing', 'Animacy=Inan|Case=Gen|Number=Plur', '_', 'Aspect=Perf|VerbForm=Inf', '_', 'Case=Loc|Gender=Neut|Number=Sing', 'Case=Loc|Degree=Pos|Gender=Neut|Number=Sing', 'Animacy=Inan|Case=Loc|Gender=Neut|Number=Sing', '_', 'Animacy=Inan|Case=Dat|Gender=Neut|Number=Plur', 'Case=Gen|Degree=Pos|Gender=Fem|Number=Sing', 'Animacy=Inan|Case=Gen|Gender=Fem|Number=Sing', '_']\n",
      "33 \n",
      " 33 \n",
      " 33\n",
      "['В', 'то', 'же', 'время', ',', 'по', 'рассказам', 'очевидцев', 'с', 'земли', ',', 'перед', 'падением', 'у', 'вертолета', 'возникли', 'какие-то', 'проблемы', 'с', 'двигателем', 'и', 'якобы', 'даже', 'наблюдался', 'шлейф', 'дыма', '.'] \n",
      " ['ADP', 'DET', 'PART', 'NOUN', 'PUNCT', 'ADP', 'NOUN', 'NOUN', 'ADP', 'NOUN', 'PUNCT', 'ADP', 'NOUN', 'ADP', 'NOUN', 'VERB', 'ADJ', 'NOUN', 'ADP', 'NOUN', 'CONJ', 'ADV', 'PART', 'VERB', 'NOUN', 'NOUN', 'PUNCT'] \n",
      " ['_', 'Case=Acc|Gender=Neut|Number=Sing', '_', 'Animacy=Inan|Case=Acc|Gender=Neut|Number=Sing', '_', '_', 'Animacy=Inan|Case=Dat|Gender=Masc|Number=Plur', 'Animacy=Anim|Case=Gen|Gender=Masc|Number=Plur', '_', 'Animacy=Inan|Case=Gen|Gender=Fem|Number=Sing', '_', '_', 'Animacy=Inan|Case=Ins|Gender=Neut|Number=Sing', '_', 'Animacy=Inan|Case=Gen|Gender=Masc|Number=Sing', 'Aspect=Perf|Mood=Ind|Number=Plur|Tense=Past|VerbForm=Fin|Voice=Act', 'Case=Nom|Degree=Pos|Number=Plur', 'Animacy=Inan|Case=Nom|Gender=Fem|Number=Plur', '_', 'Animacy=Inan|Case=Ins|Gender=Masc|Number=Sing', '_', 'Degree=Pos', '_', 'Aspect=Imp|Gender=Masc|Mood=Ind|Number=Sing|Tense=Past|VerbForm=Fin|Voice=Pass', 'Animacy=Inan|Case=Nom|Gender=Masc|Number=Sing', 'Animacy=Inan|Case=Gen|Gender=Masc|Number=Sing', '_']\n",
      "33 \n",
      " 33 \n",
      " 33\n",
      "['Другие', 'способы', 'подъема', '.'] \n",
      " ['ADJ', 'NOUN', 'NOUN', 'PUNCT'] \n",
      " ['Case=Nom|Degree=Pos|Number=Plur', 'Animacy=Inan|Case=Nom|Gender=Masc|Number=Plur', 'Animacy=Inan|Case=Gen|Gender=Masc|Number=Sing', '_']\n",
      "33 \n",
      " 33 \n",
      " 33\n",
      "['Но', 'было', 'еще', 'одно', 'обстоятельство', '-', 'появилось', 'сокровенное', 'ощущение', 'духовной', 'пищи', '.'] \n",
      " ['CONJ', 'VERB', 'ADV', 'NUM', 'NOUN', 'PUNCT', 'VERB', 'ADJ', 'NOUN', 'ADJ', 'NOUN', 'PUNCT'] \n",
      " ['_', 'Aspect=Imp|Gender=Neut|Mood=Ind|Number=Sing|Tense=Past|VerbForm=Fin|Voice=Act', 'Degree=Pos', 'Case=Nom|Gender=Neut', 'Animacy=Inan|Case=Nom|Gender=Neut|Number=Sing', '_', 'Aspect=Perf|Gender=Neut|Mood=Ind|Number=Sing|Tense=Past|VerbForm=Fin|Voice=Act', 'Case=Nom|Degree=Pos|Gender=Neut|Number=Sing', 'Animacy=Inan|Case=Nom|Gender=Neut|Number=Sing', 'Case=Gen|Degree=Pos|Gender=Fem|Number=Sing', 'Animacy=Inan|Case=Gen|Gender=Fem|Number=Sing', '_']\n",
      "33 \n",
      " 33 \n",
      " 33\n",
      "['Братья', 'поспорили', 'на', 'кружку', 'пива', ',', 'кто', 'же', 'из', 'них', 'станет', 'первым', '.'] \n",
      " ['NOUN', 'VERB', 'ADP', 'NOUN', 'NOUN', 'PUNCT', 'PRON', 'PART', 'ADP', 'PRON', 'VERB', 'ADJ', 'PUNCT'] \n",
      " ['Animacy=Anim|Case=Nom|Gender=Masc|Number=Plur', 'Aspect=Perf|Mood=Ind|Number=Plur|Tense=Past|VerbForm=Fin|Voice=Act', '_', 'Animacy=Inan|Case=Acc|Gender=Fem|Number=Sing', 'Animacy=Inan|Case=Gen|Gender=Neut|Number=Sing', '_', 'Case=Nom', '_', '_', 'Case=Gen|Number=Plur|Person=3', 'Aspect=Perf|Mood=Ind|Number=Sing|Person=3|Tense=Fut|VerbForm=Fin|Voice=Act', 'Case=Ins|Degree=Pos|Gender=Masc|Number=Sing', '_']\n",
      "33 \n",
      " 33 \n",
      " 33\n",
      "['С', 'чего', 'его', 'разнесло', '?', '.', '.'] \n",
      " ['ADP', 'PRON', 'PRON', 'VERB', 'PUNCT', 'PUNCT', 'PUNCT'] \n",
      " ['_', 'Case=Gen', 'Case=Acc|Gender=Masc|Number=Sing|Person=3', 'Aspect=Perf|Gender=Neut|Mood=Ind|Number=Sing|Tense=Past|VerbForm=Fin|Voice=Act', '_', '_', '_']\n",
      "33 \n",
      " 33 \n",
      " 33\n",
      "['Сделать', 'ее', 'можно', 'фасонным', 'резцом', '.'] \n",
      " ['VERB', 'PRON', 'ADV', 'ADJ', 'NOUN', 'PUNCT'] \n",
      " ['Aspect=Perf|VerbForm=Inf', 'Case=Acc|Gender=Fem|Number=Sing|Person=3', 'Degree=Pos', 'Case=Ins|Degree=Pos|Gender=Masc|Number=Sing', 'Animacy=Inan|Case=Ins|Gender=Masc|Number=Sing', '_']\n",
      "33 \n",
      " 33 \n",
      " 33\n",
      "['К', 'сожалению', ',', 'в', 'государственных', 'и', 'коммерческих', 'структурах', 'это', 'имеет', 'место', '.'] \n",
      " ['ADP', 'NOUN', 'PUNCT', 'ADP', 'ADJ', 'CONJ', 'ADJ', 'NOUN', 'PRON', 'VERB', 'NOUN', 'PUNCT'] \n",
      " ['_', 'Animacy=Inan|Case=Dat|Gender=Neut|Number=Sing', '_', '_', 'Case=Loc|Degree=Pos|Number=Plur', '_', 'Case=Loc|Degree=Pos|Number=Plur', 'Animacy=Inan|Case=Loc|Gender=Fem|Number=Plur', 'Animacy=Inan|Case=Nom|Gender=Neut|Number=Sing', 'Aspect=Imp|Mood=Ind|Number=Sing|Person=3|Tense=Pres|VerbForm=Fin|Voice=Act', 'Animacy=Inan|Case=Acc|Gender=Neut|Number=Sing', '_']\n",
      "33 \n",
      " 33 \n",
      " 33\n",
      "['Около', 'другой', 'суетился', 'расчет', '.'] \n",
      " ['ADP', 'ADJ', 'VERB', 'NOUN', 'PUNCT'] \n",
      " ['_', 'Case=Gen|Degree=Pos|Gender=Fem|Number=Sing', 'Aspect=Imp|Gender=Masc|Mood=Ind|Number=Sing|Tense=Past|VerbForm=Fin|Voice=Act', 'Animacy=Inan|Case=Nom|Gender=Masc|Number=Sing', '_']\n",
      "33 \n",
      " 33 \n",
      " 33\n",
      "['\"', 'Инфляционные', 'ожидания', '\"', '-', 'так', 'это', 'называется', 'на', 'языке', 'экономистов', '.'] \n",
      " ['PUNCT', 'ADJ', 'NOUN', 'PUNCT', 'PUNCT', 'ADV', 'PRON', 'VERB', 'ADP', 'NOUN', 'NOUN', 'PUNCT'] \n",
      " ['_', 'Case=Nom|Degree=Pos|Number=Plur', 'Animacy=Inan|Case=Nom|Gender=Neut|Number=Plur', '_', '_', 'Degree=Pos', 'Animacy=Inan|Case=Nom|Gender=Neut|Number=Sing', 'Aspect=Imp|Mood=Ind|Number=Sing|Person=3|Tense=Pres|VerbForm=Fin|Voice=Pass', '_', 'Animacy=Inan|Case=Loc|Gender=Masc|Number=Sing', 'Animacy=Anim|Case=Gen|Gender=Masc|Number=Plur', '_']\n",
      "33 \n",
      " 33 \n",
      " 33\n",
      "['\"', 'Не', 'берите', 'с', 'инвестора', 'слишком', 'много', ',', 'когда', 'он', 'взял', 'памятник', 'в', 'аварийном', 'состоянии', ',', 'создайте', 'инвестору', 'льготные', 'условия', '\"', ',', '-', 'считает', 'Алексей', 'Комеч', '.'] \n",
      " ['PUNCT', 'PART', 'VERB', 'ADP', 'NOUN', 'ADV', 'ADV', 'PUNCT', 'SCONJ', 'PRON', 'VERB', 'NOUN', 'ADP', 'ADJ', 'NOUN', 'PUNCT', 'VERB', 'NOUN', 'ADJ', 'NOUN', 'PUNCT', 'PUNCT', 'PUNCT', 'VERB', 'PROPN', 'PROPN', 'PUNCT'] \n",
      " ['_', '_', 'Aspect=Imp|Mood=Imp|Number=Plur|Person=2|VerbForm=Fin|Voice=Act', '_', 'Animacy=Anim|Case=Gen|Gender=Masc|Number=Sing', 'Degree=Pos', 'Degree=Pos', '_', '_', 'Case=Nom|Gender=Masc|Number=Sing|Person=3', 'Aspect=Perf|Gender=Masc|Mood=Ind|Number=Sing|Tense=Past|VerbForm=Fin|Voice=Act', 'Animacy=Inan|Case=Acc|Gender=Masc|Number=Sing', '_', 'Case=Loc|Degree=Pos|Gender=Neut|Number=Sing', 'Animacy=Inan|Case=Loc|Gender=Neut|Number=Sing', '_', 'Aspect=Perf|Mood=Imp|Number=Plur|Person=2|VerbForm=Fin|Voice=Act', 'Animacy=Anim|Case=Dat|Gender=Masc|Number=Sing', 'Animacy=Inan|Case=Acc|Degree=Pos|Number=Plur', 'Animacy=Inan|Case=Acc|Gender=Neut|Number=Plur', '_', '_', '_', 'Aspect=Imp|Mood=Ind|Number=Sing|Person=3|Tense=Pres|VerbForm=Fin|Voice=Act', 'Animacy=Anim|Case=Nom|Gender=Masc|Number=Sing', 'Animacy=Anim|Case=Nom|Gender=Masc|Number=Sing', '_']\n",
      "33 \n",
      " 33 \n",
      " 33\n",
      "['Чистое', 'олово', 'для', 'литья', 'не', 'применяют', '-', 'и', '\"', 'чума', 'оловянная', '\"', 'на', 'горизонте', 'всегда', 'маячит', ',', 'и', 'металл', 'этот', 'в', 'расплавленном', 'виде', 'не', 'настолько', 'текуч', ',', 'как', 'некоторые', 'его', 'сплавы', ',', 'что', 'сказывается', 'на', 'точности', 'передачи', 'мелких', 'деталей', '.'] \n",
      " ['ADJ', 'NOUN', 'ADP', 'NOUN', 'PART', 'VERB', 'PUNCT', 'CONJ', 'PUNCT', 'NOUN', 'ADJ', 'PUNCT', 'ADP', 'NOUN', 'ADV', 'VERB', 'PUNCT', 'CONJ', 'NOUN', 'DET', 'ADP', 'VERB', 'NOUN', 'PART', 'ADV', 'ADJ', 'PUNCT', 'SCONJ', 'DET', 'DET', 'NOUN', 'PUNCT', 'PRON', 'VERB', 'ADP', 'NOUN', 'NOUN', 'ADJ', 'NOUN', 'PUNCT'] \n",
      " ['Case=Acc|Degree=Pos|Gender=Neut|Number=Sing', 'Animacy=Inan|Case=Acc|Gender=Neut|Number=Sing', '_', 'Animacy=Inan|Case=Gen|Gender=Neut|Number=Sing', '_', 'Aspect=Imp|Mood=Ind|Number=Plur|Person=3|Tense=Pres|VerbForm=Fin|Voice=Act', '_', '_', '_', 'Animacy=Inan|Case=Nom|Gender=Fem|Number=Sing', 'Case=Nom|Degree=Pos|Gender=Fem|Number=Sing', '_', '_', 'Animacy=Inan|Case=Loc|Gender=Masc|Number=Sing', 'Degree=Pos', 'Aspect=Imp|Mood=Ind|Number=Sing|Person=3|Tense=Pres|VerbForm=Fin|Voice=Act', '_', '_', 'Animacy=Inan|Case=Nom|Gender=Masc|Number=Sing', 'Case=Nom|Gender=Masc|Number=Sing', '_', 'Aspect=Perf|Case=Loc|Gender=Masc|Number=Sing|Tense=Past|VerbForm=Part|Voice=Pass', 'Animacy=Inan|Case=Loc|Gender=Masc|Number=Sing', '_', 'Degree=Pos', 'Degree=Pos|Gender=Masc|Number=Sing|Variant=Brev', '_', '_', 'Case=Nom|Number=Plur', '_', 'Animacy=Inan|Case=Nom|Gender=Masc|Number=Plur', '_', 'Case=Nom', 'Aspect=Imp|Mood=Ind|Number=Sing|Person=3|Tense=Pres|VerbForm=Fin|Voice=Act', '_', 'Animacy=Inan|Case=Loc|Gender=Fem|Number=Sing', 'Animacy=Inan|Case=Gen|Gender=Fem|Number=Sing', 'Case=Gen|Degree=Pos|Number=Plur', 'Animacy=Inan|Case=Gen|Gender=Fem|Number=Plur', '_']\n",
      "33 \n",
      " 33 \n",
      " 33\n",
      "['Базовый', 'объем', 'Стабилизационного', 'фонда', 'определен', 'в', 'размере', '695,6', 'млрд', 'рублей', '.'] \n",
      " ['ADJ', 'NOUN', 'ADJ', 'NOUN', 'VERB', 'ADP', 'NOUN', 'NUM', 'NOUN', 'NOUN', 'PUNCT'] \n",
      " ['Case=Nom|Degree=Pos|Gender=Masc|Number=Sing', 'Animacy=Inan|Case=Nom|Gender=Masc|Number=Sing', 'Case=Gen|Degree=Pos|Gender=Masc|Number=Sing', 'Animacy=Inan|Case=Gen|Gender=Masc|Number=Sing', 'Aspect=Perf|Gender=Masc|Number=Sing|Tense=Past|Variant=Brev|VerbForm=Part|Voice=Pass', '_', 'Animacy=Inan|Case=Loc|Gender=Masc|Number=Sing', '_', 'Animacy=Inan|Case=Gen|Gender=Masc|Number=Plur', 'Animacy=Inan|Case=Gen|Gender=Masc|Number=Plur', '_']\n",
      "33 \n",
      " 33 \n",
      " 33\n",
      "['Идеологом', 'сообщества', 'является', 'Сет', 'Робертс', ',', 'профессор', 'пекинского', 'университета', 'Цинхуа', '.'] \n",
      " ['NOUN', 'NOUN', 'VERB', 'PROPN', 'PROPN', 'PUNCT', 'NOUN', 'ADJ', 'NOUN', 'PROPN', 'PUNCT'] \n",
      " ['Animacy=Anim|Case=Ins|Gender=Masc|Number=Sing', 'Animacy=Inan|Case=Gen|Gender=Neut|Number=Sing', 'Aspect=Imp|Mood=Ind|Number=Sing|Person=3|Tense=Pres|VerbForm=Fin|Voice=Act', 'Animacy=Inan|Case=Nom|Gender=Masc|Number=Sing', 'Animacy=Anim|Case=Nom|Gender=Masc|Number=Sing', '_', 'Animacy=Anim|Case=Nom|Gender=Masc|Number=Sing', 'Case=Gen|Degree=Pos|Gender=Masc|Number=Sing', 'Animacy=Inan|Case=Gen|Gender=Masc|Number=Sing', 'Animacy=Inan|Case=Nom|Gender=Masc|Number=Sing', '_']\n",
      "33 \n",
      " 33 \n",
      " 33\n",
      "['Потому_что', ',', 'если', 'мы', 'выберем', 'только', ',', 'скажем', ',', 'преференции', 'для', 'бизнеса', ',', 'мы', 'ударим', 'по', 'людям', 'и', 'по', 'государству', '.'] \n",
      " ['CONJ', 'PUNCT', 'SCONJ', 'PRON', 'VERB', 'PART', 'PUNCT', 'VERB', 'PUNCT', 'NOUN', 'ADP', 'NOUN', 'PUNCT', 'PRON', 'VERB', 'ADP', 'NOUN', 'CONJ', 'ADP', 'NOUN', 'PUNCT'] \n",
      " ['_', '_', '_', 'Case=Nom|Number=Plur|Person=1', 'Aspect=Perf|Mood=Ind|Number=Plur|Person=1|Tense=Fut|VerbForm=Fin|Voice=Act', '_', '_', 'Aspect=Perf|Mood=Ind|Number=Plur|Person=1|Tense=Fut|VerbForm=Fin|Voice=Act', '_', 'Animacy=Inan|Case=Acc|Gender=Fem|Number=Plur', '_', 'Animacy=Inan|Case=Gen|Gender=Masc|Number=Sing', '_', 'Case=Nom|Number=Plur|Person=1', 'Aspect=Perf|Mood=Ind|Number=Plur|Person=1|Tense=Fut|VerbForm=Fin|Voice=Act', '_', 'Animacy=Anim|Case=Dat|Gender=Masc|Number=Plur', '_', '_', 'Animacy=Inan|Case=Dat|Gender=Neut|Number=Sing', '_']\n",
      "33 \n",
      " 33 \n",
      " 33\n",
      "['ПОДВОДНЫЕ', 'ДЕНЬГИ', '.'] \n",
      " ['ADJ', 'PROPN', 'PUNCT'] \n",
      " ['Case=Nom|Degree=Pos|Number=Plur', 'Animacy=Inan|Case=Nom|Gender=Fem|Number=Plur', '_']\n",
      "33 \n",
      " 33 \n",
      " 33\n",
      "['И', 'совсем', 'другое', ',', 'если', 'построена', 'параллельная', 'система', 'власти', '.'] \n",
      " ['CONJ', 'ADV', 'ADJ', 'PUNCT', 'SCONJ', 'VERB', 'ADJ', 'NOUN', 'NOUN', 'PUNCT'] \n",
      " ['_', 'Degree=Pos', 'Case=Nom|Degree=Pos|Gender=Neut|Number=Sing', '_', '_', 'Aspect=Perf|Gender=Fem|Number=Sing|Tense=Past|Variant=Brev|VerbForm=Part|Voice=Pass', 'Case=Nom|Degree=Pos|Gender=Fem|Number=Sing', 'Animacy=Inan|Case=Nom|Gender=Fem|Number=Sing', 'Animacy=Inan|Case=Gen|Gender=Fem|Number=Sing', '_']\n",
      "33 \n",
      " 33 \n",
      " 33\n",
      "['Старых', 'не', 'обижайте', ',', 'это', 'и', 'ваша', 'старость', '.'] \n",
      " ['ADJ', 'PART', 'VERB', 'PUNCT', 'PRON', 'PART', 'DET', 'NOUN', 'PUNCT'] \n",
      " ['Case=Gen|Degree=Pos|Number=Plur', '_', 'Aspect=Imp|Mood=Imp|Number=Plur|Person=2|VerbForm=Fin|Voice=Act', '_', 'Animacy=Inan|Case=Nom|Gender=Neut|Number=Sing', '_', 'Case=Nom|Gender=Fem|Number=Sing', 'Animacy=Inan|Case=Nom|Gender=Fem|Number=Sing', '_']\n",
      "33 \n",
      " 33 \n",
      " 33\n",
      "['Хлеба', 'дают', '600', 'гр', '.', ',', 'плохой', 'суп', ',', 'немного', 'каши', '.'] \n",
      " ['NOUN', 'VERB', 'NUM', 'NOUN', 'PUNCT', 'PUNCT', 'ADJ', 'NOUN', 'PUNCT', 'ADV', 'NOUN', 'PUNCT'] \n",
      " ['Animacy=Inan|Case=Gen|Gender=Masc|Number=Sing', 'Aspect=Imp|Mood=Ind|Number=Plur|Person=3|Tense=Pres|VerbForm=Fin|Voice=Act', '_', 'Animacy=Anim|Case=Gen|Gender=Masc|Number=Plur', '_', '_', 'Animacy=Inan|Case=Acc|Degree=Pos|Gender=Masc|Number=Sing', 'Animacy=Inan|Case=Acc|Gender=Masc|Number=Sing', '_', 'Degree=Pos', 'Animacy=Inan|Case=Gen|Gender=Fem|Number=Sing', '_']\n",
      "33 \n",
      " 33 \n",
      " 33\n",
      "['Для', 'примерных', 'сыновей', 'и', 'дочерей', 'мы', 'расскажем', 'о', 'самых', 'распространенных', 'автомобильных', 'заблуждениях', '.'] \n",
      " ['ADP', 'ADJ', 'NOUN', 'CONJ', 'NOUN', 'PRON', 'VERB', 'ADP', 'ADJ', 'ADJ', 'ADJ', 'NOUN', 'PUNCT'] \n",
      " ['_', 'Case=Gen|Degree=Pos|Number=Plur', 'Animacy=Anim|Case=Gen|Gender=Masc|Number=Plur', '_', 'Animacy=Anim|Case=Gen|Gender=Fem|Number=Plur', 'Case=Nom|Number=Plur|Person=1', 'Aspect=Perf|Mood=Ind|Number=Plur|Person=1|Tense=Fut|VerbForm=Fin|Voice=Act', '_', 'Case=Loc|Degree=Pos|Number=Plur', 'Case=Loc|Degree=Pos|Number=Plur', 'Case=Loc|Degree=Pos|Number=Plur', 'Animacy=Inan|Case=Loc|Gender=Neut|Number=Plur', '_']\n",
      "33 \n",
      " 33 \n",
      " 33\n",
      "['Массам', 'надоело', 'выслушивать', 'безответственные', 'словопрения', ',', 'в', 'том', 'числе', 'и', 'декларации', 'типа', '\"', 'остро', 'обсудили', '\"', ',', '\"', 'наметили', 'программу', '\"', ',', '\"', 'будут', 'приняты', 'меры', '\"', ',', '\"', 'уже', 'составлен', 'план', '\"', 'и', 'т.п.', ',', 'в', 'которых', 'нет', 'одного', ':', 'что', 'конкретно', 'сделано', 'и', 'что', 'это', 'сделанное', 'дает', 'людям', '.'] \n",
      " ['NOUN', 'VERB', 'VERB', 'ADJ', 'NOUN', 'PUNCT', 'ADP', 'DET', 'NOUN', 'PART', 'NOUN', 'NOUN', 'PUNCT', 'ADV', 'VERB', 'PUNCT', 'PUNCT', 'PUNCT', 'VERB', 'NOUN', 'PUNCT', 'PUNCT', 'PUNCT', 'AUX', 'VERB', 'NOUN', 'PUNCT', 'PUNCT', 'PUNCT', 'ADV', 'VERB', 'NOUN', 'PUNCT', 'CONJ', 'ADV', 'PUNCT', 'ADP', 'ADJ', 'VERB', 'NUM', 'PUNCT', 'PRON', 'ADV', 'VERB', 'CONJ', 'PRON', 'PRON', 'VERB', 'VERB', 'NOUN', 'PUNCT'] \n",
      " ['Animacy=Inan|Case=Dat|Gender=Fem|Number=Plur', 'Aspect=Perf|Gender=Neut|Mood=Ind|Number=Sing|Tense=Past|VerbForm=Fin|Voice=Act', 'Aspect=Imp|VerbForm=Inf', 'Animacy=Inan|Case=Acc|Degree=Pos|Number=Plur', 'Animacy=Inan|Case=Acc|Gender=Neut|Number=Plur', '_', '_', 'Case=Loc|Gender=Neut|Number=Sing', 'Animacy=Inan|Case=Loc|Gender=Neut|Number=Sing', '_', 'Animacy=Inan|Case=Acc|Gender=Fem|Number=Plur', 'Animacy=Inan|Case=Gen|Gender=Masc|Number=Sing', '_', 'Degree=Pos', 'Aspect=Perf|Mood=Ind|Number=Plur|Tense=Past|VerbForm=Fin|Voice=Act', '_', '_', '_', 'Aspect=Perf|Mood=Ind|Number=Plur|Tense=Past|VerbForm=Fin|Voice=Act', 'Animacy=Inan|Case=Acc|Gender=Fem|Number=Sing', '_', '_', '_', 'Aspect=Imp|Mood=Ind|Number=Plur|Person=3|Tense=Pres|VerbForm=Fin|Voice=Act', 'Aspect=Perf|Number=Plur|Tense=Past|Variant=Brev|VerbForm=Part|Voice=Pass', 'Animacy=Inan|Case=Nom|Gender=Fem|Number=Plur', '_', '_', '_', 'Degree=Pos', 'Aspect=Perf|Gender=Masc|Number=Sing|Tense=Past|Variant=Brev|VerbForm=Part|Voice=Pass', 'Animacy=Inan|Case=Nom|Gender=Masc|Number=Sing', '_', '_', 'Degree=Pos', '_', '_', 'Case=Loc|Degree=Pos|Number=Plur', 'Aspect=Imp|Mood=Ind|Number=Sing|Person=3|Tense=Pres|VerbForm=Fin|Voice=Act', 'Case=Gen|Gender=Neut', '_', 'Case=Nom', 'Degree=Pos', 'Aspect=Perf|Gender=Neut|Number=Sing|Tense=Past|Variant=Brev|VerbForm=Part|Voice=Pass', '_', 'Case=Acc', 'Animacy=Inan|Case=Nom|Gender=Neut|Number=Sing', 'Aspect=Perf|Case=Nom|Gender=Neut|Number=Sing|Tense=Past|VerbForm=Part|Voice=Pass', 'Aspect=Imp|Mood=Ind|Number=Sing|Person=3|Tense=Pres|VerbForm=Fin|Voice=Act', 'Animacy=Anim|Case=Dat|Gender=Masc|Number=Plur', '_']\n",
      "33 \n",
      " 33 \n",
      " 33\n",
      "['Доводя', 'до', 'бешенства', 'абсолютно', 'всех', ',', 'она', 'в', 'этом', 'смысле', 'является', 'реинкарнацией', 'Бауэра', '.'] \n",
      " ['VERB', 'ADP', 'NOUN', 'ADV', 'PRON', 'PUNCT', 'PRON', 'ADP', 'DET', 'NOUN', 'VERB', 'NOUN', 'PROPN', 'PUNCT'] \n",
      " ['Aspect=Imp|Tense=Pres|VerbForm=Trans|Voice=Act', '_', 'Animacy=Inan|Case=Gen|Gender=Neut|Number=Sing', 'Degree=Pos', 'Animacy=Anim|Case=Acc|Number=Plur', '_', 'Case=Nom|Gender=Fem|Number=Sing|Person=3', '_', 'Case=Loc|Gender=Masc|Number=Sing', 'Animacy=Inan|Case=Loc|Gender=Masc|Number=Sing', 'Aspect=Imp|Mood=Ind|Number=Sing|Person=3|Tense=Pres|VerbForm=Fin|Voice=Act', 'Animacy=Inan|Case=Ins|Gender=Fem|Number=Sing', 'Animacy=Anim|Case=Gen|Gender=Masc|Number=Sing', '_']\n",
      "33 \n",
      " 33 \n",
      " 33\n",
      "['-', 'В', 'современных', 'условиях', 'функции', 'Вооруженных', 'Сил', 'все', 'больше', 'смещаются', 'из', 'сферы', 'отражения', 'широкомасштабной', 'агрессии', 'к', 'пресечению', 'новых', 'угроз', '-', 'терроризма', ',', 'сепаратизма', '.'] \n",
      " ['PUNCT', 'ADP', 'ADJ', 'NOUN', 'NOUN', 'VERB', 'PROPN', 'PART', 'ADV', 'VERB', 'ADP', 'NOUN', 'NOUN', 'ADJ', 'NOUN', 'ADP', 'NOUN', 'ADJ', 'NOUN', 'PUNCT', 'NOUN', 'PUNCT', 'NOUN', 'PUNCT'] \n",
      " ['_', '_', 'Case=Loc|Degree=Pos|Number=Plur', 'Animacy=Inan|Case=Loc|Gender=Neut|Number=Plur', 'Animacy=Inan|Case=Nom|Gender=Fem|Number=Plur', 'Aspect=Perf|Case=Gen|Number=Plur|Tense=Past|VerbForm=Part|Voice=Pass', 'Animacy=Inan|Case=Gen|Gender=Fem|Number=Plur', '_', 'Degree=Cmp', 'Aspect=Imp|Mood=Ind|Number=Plur|Person=3|Tense=Pres|VerbForm=Fin|Voice=Act', '_', 'Animacy=Inan|Case=Gen|Gender=Fem|Number=Sing', 'Animacy=Inan|Case=Gen|Gender=Neut|Number=Sing', 'Case=Gen|Degree=Pos|Gender=Fem|Number=Sing', 'Animacy=Inan|Case=Gen|Gender=Fem|Number=Sing', '_', 'Animacy=Inan|Case=Dat|Gender=Neut|Number=Sing', 'Case=Gen|Degree=Pos|Number=Plur', 'Animacy=Inan|Case=Gen|Gender=Fem|Number=Plur', '_', 'Animacy=Inan|Case=Gen|Gender=Masc|Number=Sing', '_', 'Animacy=Inan|Case=Gen|Gender=Masc|Number=Sing', '_']\n",
      "33 \n",
      " 33 \n",
      " 33\n",
      "['Вывод', 'с', 'ходу', 'настораживает', ':', 'именно', 'так', 'заканчивались', 'все', 'прежние', 'исследования', 'по', 'заказу', 'минэкономразвития', ',', 'и', 'это', 'резко', 'разнится', 'с', 'результатами', 'некоторых', 'корпоративных', 'исследований', '.'] \n",
      " ['NOUN', 'ADP', 'NOUN', 'VERB', 'PUNCT', 'PART', 'ADV', 'VERB', 'DET', 'ADJ', 'NOUN', 'ADP', 'NOUN', 'NOUN', 'PUNCT', 'CONJ', 'PRON', 'ADV', 'VERB', 'ADP', 'NOUN', 'DET', 'ADJ', 'NOUN', 'PUNCT'] \n",
      " ['Animacy=Inan|Case=Nom|Gender=Masc|Number=Sing', '_', 'Animacy=Inan|Case=Par|Gender=Masc|Number=Sing', 'Aspect=Imp|Mood=Ind|Number=Sing|Person=3|Tense=Pres|VerbForm=Fin|Voice=Act', '_', '_', 'Degree=Pos', 'Aspect=Imp|Mood=Ind|Number=Plur|Tense=Past|VerbForm=Fin|Voice=Pass', 'Case=Nom|Number=Plur', 'Case=Nom|Degree=Pos|Number=Plur', 'Animacy=Inan|Case=Nom|Gender=Neut|Number=Plur', '_', 'Animacy=Inan|Case=Dat|Gender=Masc|Number=Sing', 'Animacy=Inan|Case=Gen|Gender=Neut|Number=Sing', '_', '_', 'Animacy=Inan|Case=Nom|Gender=Neut|Number=Sing', 'Degree=Pos', 'Aspect=Imp|Mood=Ind|Number=Sing|Person=3|Tense=Pres|VerbForm=Fin|Voice=Act', '_', 'Animacy=Inan|Case=Ins|Gender=Masc|Number=Plur', 'Case=Gen|Number=Plur', 'Case=Gen|Degree=Pos|Number=Plur', 'Animacy=Inan|Case=Gen|Gender=Neut|Number=Plur', '_']\n",
      "33 \n",
      " 33 \n",
      " 33\n"
     ]
    }
   ],
   "source": [
    "# Выыедем, что получилось\n",
    "index = 0\n",
    "assert len(train[index].tokens) == len(train[index].tokens) == len(train[index].tokens)\n",
    "\n",
    "for idx in range(len(train[index].tokens)):\n",
    "    print(train[index].tokens[idx], '\\t', train[index].pos_tags[idx], '\\t', train[index].grams[idx], '\\t')"
   ]
  },
  {
   "cell_type": "markdown",
   "metadata": {},
   "source": [
    "Для простоты далее будем использовать токены слов и POS-теги. Но чтобы определять грамматические значения нужно еще провести некоторые манипуляции с данными, описанные в оригинальном ноутубке. Мы же ограничимся только определением частей речи"
   ]
  },
  {
   "cell_type": "markdown",
   "metadata": {},
   "source": [
    "## Часть 2. Подготовка эмбеддингов"
   ]
  },
  {
   "cell_type": "markdown",
   "metadata": {},
   "source": [
    "Обычно в качестве признаков для обучения сеток используются словные эмбеддинги. Для этого можно скачать предобученные и сохранить их в матрицу, где в расположатся векторы эмбеддингах по индексам, соответсвующих слов"
   ]
  },
  {
   "cell_type": "code",
   "execution_count": 9,
   "metadata": {},
   "outputs": [],
   "source": [
    "#запомним все уникальные слова и POS-теги в корпусе\n",
    "word_set = set()\n",
    "pos_set = set()\n",
    "for sent in train:\n",
    "    for wordform in sent:\n",
    "        word_set.add(wordform.word.lower())\n",
    "        pos_set.add(wordform.pos)"
   ]
  },
  {
   "cell_type": "code",
   "execution_count": 10,
   "metadata": {},
   "outputs": [
    {
     "name": "stdout",
     "output_type": "stream",
     "text": [
      "строительных, вычеты, махнул, дома, кристалер, отклонил, дважды, вдохновение, подорожания, диктуется, \n",
      "{'X', 'VERB', 'PART', 'NUM', 'PUNCT', 'PRON', 'ADV', 'DET', 'ADJ', 'AUX', 'SYM', 'INTJ', 'ADP', 'CONJ', 'NOUN', 'SCONJ', 'PROPN'}\n"
     ]
    }
   ],
   "source": [
    "for word in list(word_set)[:10]: \n",
    "    print(word, end=', ')\n",
    "print()\n",
    "print(pos_set)"
   ]
  },
  {
   "cell_type": "code",
   "execution_count": 11,
   "metadata": {},
   "outputs": [
    {
     "ename": "FileNotFoundError",
     "evalue": "[Errno 2] No such file or directory: 'data\\\\glove.6B.50d.txt'",
     "output_type": "error",
     "traceback": [
      "\u001b[1;31m---------------------------------------------------------------------------\u001b[0m",
      "\u001b[1;31mFileNotFoundError\u001b[0m                         Traceback (most recent call last)",
      "\u001b[1;32m<ipython-input-11-eb0b7c214c87>\u001b[0m in \u001b[0;36m<module>\u001b[1;34m\u001b[0m\n\u001b[0;32m      7\u001b[0m \u001b[0membedding_size\u001b[0m \u001b[1;33m=\u001b[0m \u001b[1;32mNone\u001b[0m\u001b[1;33m\u001b[0m\u001b[1;33m\u001b[0m\u001b[0m\n\u001b[0;32m      8\u001b[0m \u001b[1;31m#Загружаем эмбеддинги\u001b[0m\u001b[1;33m\u001b[0m\u001b[1;33m\u001b[0m\u001b[1;33m\u001b[0m\u001b[0m\n\u001b[1;32m----> 9\u001b[1;33m \u001b[1;32mwith\u001b[0m \u001b[0mio\u001b[0m\u001b[1;33m.\u001b[0m\u001b[0mopen\u001b[0m\u001b[1;33m(\u001b[0m\u001b[0mword_embeddings_path\u001b[0m\u001b[1;33m,\u001b[0m \u001b[1;34m'r'\u001b[0m\u001b[1;33m,\u001b[0m \u001b[0mencoding\u001b[0m\u001b[1;33m=\u001b[0m\u001b[1;34m\"utf-8\"\u001b[0m\u001b[1;33m)\u001b[0m \u001b[1;32mas\u001b[0m \u001b[0mf_em\u001b[0m\u001b[1;33m:\u001b[0m\u001b[1;33m\u001b[0m\u001b[1;33m\u001b[0m\u001b[0m\n\u001b[0m\u001b[0;32m     10\u001b[0m     \u001b[1;32mfor\u001b[0m \u001b[0mline\u001b[0m \u001b[1;32min\u001b[0m \u001b[0mf_em\u001b[0m\u001b[1;33m:\u001b[0m\u001b[1;33m\u001b[0m\u001b[1;33m\u001b[0m\u001b[0m\n\u001b[0;32m     11\u001b[0m         \u001b[0msplit\u001b[0m \u001b[1;33m=\u001b[0m \u001b[0mline\u001b[0m\u001b[1;33m.\u001b[0m\u001b[0mstrip\u001b[0m\u001b[1;33m(\u001b[0m\u001b[1;33m)\u001b[0m\u001b[1;33m.\u001b[0m\u001b[0msplit\u001b[0m\u001b[1;33m(\u001b[0m\u001b[1;34m\" \"\u001b[0m\u001b[1;33m)\u001b[0m\u001b[1;33m\u001b[0m\u001b[1;33m\u001b[0m\u001b[0m\n",
      "\u001b[1;31mFileNotFoundError\u001b[0m: [Errno 2] No such file or directory: 'data\\\\glove.6B.50d.txt'"
     ]
    }
   ],
   "source": [
    "#Загрузите эмбеддинги c https://nlp.stanford.edu/projects/glove/ или другие, которые вам нравятся и пропишите путь к ним\n",
    "import numpy as np\n",
    "\n",
    "word_embeddings_path = 'data\\glove.6B.50d.txt'\n",
    "word2idx = {}\n",
    "word_embeddings = []\n",
    "embedding_size = None\n",
    "#Загружаем эмбеддинги\n",
    "with io.open(word_embeddings_path, 'r', encoding=\"utf-8\") as f_em:\n",
    "    for line in f_em:\n",
    "        split = line.strip().split(\" \")\n",
    "        # Совсем короткие строки пропускаем\n",
    "        if len(split) <= 2:\n",
    "            continue\n",
    "        # Встретив первую подходящую строку, фиксируем размер эмбеддингов\n",
    "        if embedding_size is None:\n",
    "            embedding_size = len(split) - 1\n",
    "            # Также нициализируем эмбеддинги для паддингов и неизвестных слов\n",
    "            word2idx[\"PADDING_TOKEN\"] = len(word2idx)\n",
    "            word_embeddings.append(np.zeros(embedding_size))\n",
    "\n",
    "            word2idx[\"UNKNOWN_TOKEN\"] = len(word2idx)\n",
    "            word_embeddings.append(np.random.uniform(-0.25, 0.25, embedding_size))\n",
    "        # После этого все эмбеддинги должны быть одинаковой длины\n",
    "        if len(split) - 1 != embedding_size:\n",
    "            continue\n",
    "            \n",
    "        #Если слова нет в корпусе, то не будем для него запоминать эмбеддинг        \n",
    "        if (split[0] not in word_set):\n",
    "            continue\n",
    "        \n",
    "        word_embeddings.append(np.asarray(split[1:], dtype='float32'))\n",
    "        word2idx[split[0]] = len(word2idx)\n",
    "\n",
    "word_embeddings = np.array(word_embeddings, dtype='float32')"
   ]
  },
  {
   "cell_type": "code",
   "execution_count": 12,
   "metadata": {},
   "outputs": [
    {
     "data": {
      "text/plain": [
       "0"
      ]
     },
     "execution_count": 12,
     "metadata": {},
     "output_type": "execute_result"
    }
   ],
   "source": [
    "len(word_set & set(word2idx.keys()))"
   ]
  },
  {
   "cell_type": "code",
   "execution_count": 11,
   "metadata": {},
   "outputs": [
    {
     "data": {
      "text/plain": [
       "98880"
      ]
     },
     "execution_count": 11,
     "metadata": {},
     "output_type": "execute_result"
    }
   ],
   "source": [
    "len(word_set)"
   ]
  },
  {
   "cell_type": "markdown",
   "metadata": {},
   "source": [
    "Как-то эмбеддинги не сильно подходят для данного корпуса поэтому, просто инициализируем рандмно матрицу эмбеддингов при определении сетки. Вам же предлагается все-таки поискать подходящие эмбеддинги и использовать их при обучении."
   ]
  },
  {
   "cell_type": "markdown",
   "metadata": {},
   "source": [
    "## Часть 3. Подготовка данных\n",
    "Теперь нам остается только пронумеровать все слова и POS-теги и можно переходить к обучению сеток."
   ]
  },
  {
   "cell_type": "code",
   "execution_count": 12,
   "metadata": {},
   "outputs": [],
   "source": [
    "word_to_index = {'PAD' : 0, 'UNK' : 1}\n",
    "for word in word_set:\n",
    "    word_to_index[word] = len(word_to_index)"
   ]
  },
  {
   "cell_type": "code",
   "execution_count": 13,
   "metadata": {},
   "outputs": [],
   "source": [
    "pos_to_index = {}\n",
    "index_to_pos = {}\n",
    "for pos in pos_set:\n",
    "    pos_to_index[pos] = len(pos_to_index)\n",
    "    index_to_pos[len(index_to_pos)] = pos"
   ]
  },
  {
   "cell_type": "code",
   "execution_count": 14,
   "metadata": {},
   "outputs": [],
   "source": [
    "# для полносвязной сетки просто захреначим все в один список\n",
    "data_X = []\n",
    "data_Y = []\n",
    "for sent in train:\n",
    "    for wordform in sent:\n",
    "        data_X.append(word_to_index[wordform.word.lower()])\n",
    "        data_Y.append(pos_to_index[wordform.pos])"
   ]
  },
  {
   "cell_type": "code",
   "execution_count": 16,
   "metadata": {},
   "outputs": [
    {
     "name": "stdout",
     "output_type": "stream",
     "text": [
      "[43904, 87202, 73490, 80225, 49180, 73764, 31229, 5478, 65911, 66276]\n",
      "[14, 10, 2, 15, 1, 0, 15, 1, 10, 10]\n"
     ]
    }
   ],
   "source": [
    "print(data_X[:10])\n",
    "print(data_Y[:10])"
   ]
  },
  {
   "cell_type": "markdown",
   "metadata": {},
   "source": [
    "## Часть 4. Полносвязная сеть\n",
    "Самой простой моделью является обычный перцептрон. На вход сетки будем подавать просто эмдеддинг каждого слова, на выходе ожидать распредедение вероятностей по тегам. В качестве фреймворка достаточно будет использовать keras и его Sequential модель (https://keras.io/models/sequential/), в которую слои добавляются последовательно, с помощью метода `add`."
   ]
  },
  {
   "cell_type": "code",
   "execution_count": 30,
   "metadata": {},
   "outputs": [],
   "source": [
    "from keras.models import Sequential\n",
    "from keras.layers import Embedding, Dense, Activation, Flatten"
   ]
  },
  {
   "cell_type": "code",
   "execution_count": 47,
   "metadata": {},
   "outputs": [
    {
     "name": "stdout",
     "output_type": "stream",
     "text": [
      "Model: \"sequential_8\"\n",
      "_________________________________________________________________\n",
      "Layer (type)                 Output Shape              Param #   \n",
      "=================================================================\n",
      "embedding_8 (Embedding)      (None, 1, 50)             4944100   \n",
      "_________________________________________________________________\n",
      "flatten_2 (Flatten)          (None, 50)                0         \n",
      "_________________________________________________________________\n",
      "dense_10 (Dense)             (None, 100)               5100      \n",
      "_________________________________________________________________\n",
      "activation_8 (Activation)    (None, 100)               0         \n",
      "_________________________________________________________________\n",
      "dense_11 (Dense)             (None, 17)                1717      \n",
      "_________________________________________________________________\n",
      "activation_9 (Activation)    (None, 17)                0         \n",
      "=================================================================\n",
      "Total params: 4,950,917\n",
      "Trainable params: 6,817\n",
      "Non-trainable params: 4,944,100\n",
      "_________________________________________________________________\n"
     ]
    }
   ],
   "source": [
    "model = Sequential()\n",
    "# на самом деле на вход сетки будет добавляться индекс слова, а слой эмбеддинга будет возвращать для него вектор\n",
    "model.add(Embedding(input_length=1, input_dim=len(word_to_index), output_dim=50, embeddings_initializer='random_uniform',\n",
    "                    trainable=False)) # матрицу эмбеддингов просто инициализируем нормальным распределением и отключим обучение\n",
    "# далее нам нужно схлопнуть трехмерный тензор с одной фиктивной размерностью в двумерный\n",
    "model.add(Flatten())\n",
    "model.add(Dense(100)) # основной полносвязный слой\n",
    "model.add(Activation('relu')) # для приличия добавим функцию активации\n",
    "model.add(Dense(len(pos_to_index))) # выходной слой тоже полносвязный размерности по кол-ву тегов\n",
    "model.add(Activation('softmax')) # ну и в конце делаем softmax, чтобы получить распределение\n",
    "model.summary() # вывод получившейся модели"
   ]
  },
  {
   "cell_type": "code",
   "execution_count": 48,
   "metadata": {},
   "outputs": [],
   "source": [
    "# компилируем модель\n",
    "model.compile(optimizer='adam',\n",
    "              loss='sparse_categorical_crossentropy', metrics=['accuracy'])"
   ]
  },
  {
   "cell_type": "code",
   "execution_count": 50,
   "metadata": {},
   "outputs": [
    {
     "name": "stdout",
     "output_type": "stream",
     "text": [
      "Epoch 1/1\n",
      "850689/850689 [==============================] - 4953s 6ms/step - loss: 1.4284 - accuracy: 0.5380\n"
     ]
    },
    {
     "data": {
      "text/plain": [
       "<keras.callbacks.callbacks.History at 0x35cc3908>"
      ]
     },
     "execution_count": 50,
     "metadata": {},
     "output_type": "execute_result"
    }
   ],
   "source": [
    "# и обучаем\n",
    "model.fit(np.array(data_X), np.array(data_Y), epochs=1, batch_size=256)"
   ]
  },
  {
   "cell_type": "markdown",
   "metadata": {},
   "source": [
    "Проверка обученности модели остается за вами. Этот пример лишь для того, чтобы показать как собрать сетку и скормить ей данные."
   ]
  },
  {
   "cell_type": "markdown",
   "metadata": {},
   "source": [
    "## Часть 5. Рекуррентая сеть."
   ]
  },
  {
   "cell_type": "markdown",
   "metadata": {},
   "source": [
    "Далее рассмотрим более приближенную к SOTA модель. Ей является рекуррентая сеть, которая принимает эмбеддинги слов в предложении и генерирует для них распределение вероятностей. Основным отличием от прошлой в том, что теперь мы будем использовать соседние слова как раз за счет рекуррентого слоя. Для этой модели мы уже будем использовать функциональный способ задания модели все того же кераса (https://keras.io/models/model/)."
   ]
  },
  {
   "cell_type": "code",
   "execution_count": 51,
   "metadata": {},
   "outputs": [],
   "source": [
    "from keras.layers import LSTM, TimeDistributed,Bidirectional, Input\n",
    "from keras.models import Model"
   ]
  },
  {
   "cell_type": "code",
   "execution_count": 52,
   "metadata": {},
   "outputs": [
    {
     "name": "stdout",
     "output_type": "stream",
     "text": [
      "Model: \"model_1\"\n",
      "_________________________________________________________________\n",
      "Layer (type)                 Output Shape              Param #   \n",
      "=================================================================\n",
      "input (InputLayer)           (None, None)              0         \n",
      "_________________________________________________________________\n",
      "embedding (Embedding)        (None, None, 50)          4944100   \n",
      "_________________________________________________________________\n",
      "blstm (Bidirectional)        (None, None, 200)         120800    \n",
      "_________________________________________________________________\n",
      "time_distributed_1 (TimeDist (None, None, 17)          3417      \n",
      "=================================================================\n",
      "Total params: 5,068,317\n",
      "Trainable params: 124,217\n",
      "Non-trainable params: 4,944,100\n",
      "_________________________________________________________________\n"
     ]
    }
   ],
   "source": [
    "# В начале задается входной слой, в котором мы укажем входную размерность. \n",
    "# Это будет None, т.к. мы заранее не знаем, какой будет длина каждого предложения \n",
    "input_layer = Input(shape=(None,), name='input')\n",
    "# Далее идет все тот же слой эмеддинга, которому мы на вход подаем предыдущий слой (в этом и суть functional APO)\n",
    "embeddings_layer = Embedding(input_dim=len(word_to_index), output_dim=50, \n",
    "                             trainable=False, embeddings_initializer='random_uniform',\n",
    "                             name='embedding')(input_layer)\n",
    "# Итак, основным слоем здесь будет двусторонний LSTM, который будет возвращать вектор для каждого слова (return_sequences=True) \n",
    "blstm_layer = Bidirectional(LSTM(100, return_sequences=True), name='blstm')(embeddings_layer)\n",
    "# Аналогично т.к. у нас здесь вектора для каждого слоя, то и полносвязный слой должен применяться для каждого слоя \n",
    "# по-отдельности. Поэтому полносвязный слой оборачивается в  TimeDistributed\n",
    "result_layer = TimeDistributed(Dense(len(pos_to_index), activation='softmax', name='result'))(blstm_layer)\n",
    "# собственно определяем модель входными и выходными слоями\n",
    "model = Model(inputs=[input_layer], outputs=result_layer)\n",
    "# компилируем\n",
    "model.compile(optimizer='adam',\n",
    "              loss='sparse_categorical_crossentropy', metrics=['accuracy'])\n",
    "# выводим архитектуру\n",
    "model.summary()"
   ]
  },
  {
   "cell_type": "markdown",
   "metadata": {},
   "source": [
    "Далее нам нужно было бы распределить слова по предложениям, распределить по группам по длине, выравнить предложения по длине в одной групе, заполнив недостающие слова паддингами. Но это довольно неприятный процесс, а мне просто хочется запустить сетку и проверить, что она вообще работает, что сошлись все разверности. Поэтому просто раскидаем по 10 слов с помощью `numpy.reshape`"
   ]
  },
  {
   "cell_type": "code",
   "execution_count": 63,
   "metadata": {},
   "outputs": [],
   "source": [
    "rnnX = np.reshape(data_X[:850000], (-1,10))\n",
    "rnnY = np.reshape(data_Y[:850000], (-1,10,1))"
   ]
  },
  {
   "cell_type": "code",
   "execution_count": 58,
   "metadata": {},
   "outputs": [
    {
     "data": {
      "text/plain": [
       "(85000L, 10L, 1L)"
      ]
     },
     "execution_count": 58,
     "metadata": {},
     "output_type": "execute_result"
    }
   ],
   "source": [
    "np.shape(rnnX)"
   ]
  },
  {
   "cell_type": "markdown",
   "metadata": {},
   "source": [
    "Ну и проверим, что оно вообще работает."
   ]
  },
  {
   "cell_type": "code",
   "execution_count": 65,
   "metadata": {},
   "outputs": [
    {
     "name": "stdout",
     "output_type": "stream",
     "text": [
      "Epoch 1/1\n",
      "85000/85000 [==============================] - 26455s 311ms/step - loss: 2.0810 - accuracy: 0.3562\n"
     ]
    },
    {
     "data": {
      "text/plain": [
       "<keras.callbacks.callbacks.History at 0x41795080>"
      ]
     },
     "execution_count": 65,
     "metadata": {},
     "output_type": "execute_result"
    }
   ],
   "source": [
    "model.fit(rnnX, rnnY, epochs=1, batch_size=256)"
   ]
  },
  {
   "cell_type": "markdown",
   "metadata": {},
   "source": [
    "## Часть 6. Задание\n",
    "В качестве упражения предлагается довести до ума обучения второй модели: распределить слова по предложениям, написать тестирование модели и собственно посмотреть как оно обучилось. Тестировать предлагаю на последней 1000 предложений, обучать - на остальном. Кто уверен в своих желаниях, то может решить оригинальную задачу: предсказывать также грамматические категории. А мы же перейдем на следующем семинаре к более приятному фреймворку - PyTorch. "
   ]
  }
 ],
 "metadata": {
  "kernelspec": {
   "display_name": "Python 3",
   "language": "python",
   "name": "python3"
  },
  "language_info": {
   "codemirror_mode": {
    "name": "ipython",
    "version": 3
   },
   "file_extension": ".py",
   "mimetype": "text/x-python",
   "name": "python",
   "nbconvert_exporter": "python",
   "pygments_lexer": "ipython3",
   "version": "3.8.0"
  },
  "latex_envs": {
   "LaTeX_envs_menu_present": true,
   "autoclose": false,
   "autocomplete": true,
   "bibliofile": "biblio.bib",
   "cite_by": "apalike",
   "current_citInitial": 1,
   "eqLabelWithNumbers": true,
   "eqNumInitial": 1,
   "hotkeys": {
    "equation": "Ctrl-E",
    "itemize": "Ctrl-I"
   },
   "labels_anchors": false,
   "latex_user_defs": false,
   "report_style_numbering": false,
   "user_envs_cfg": false
  },
  "varInspector": {
   "cols": {
    "lenName": 16,
    "lenType": 16,
    "lenVar": 40
   },
   "kernels_config": {
    "python": {
     "delete_cmd_postfix": "",
     "delete_cmd_prefix": "del ",
     "library": "var_list.py",
     "varRefreshCmd": "print(var_dic_list())"
    },
    "r": {
     "delete_cmd_postfix": ") ",
     "delete_cmd_prefix": "rm(",
     "library": "var_list.r",
     "varRefreshCmd": "cat(var_dic_list()) "
    }
   },
   "types_to_exclude": [
    "module",
    "function",
    "builtin_function_or_method",
    "instance",
    "_Feature"
   ],
   "window_display": false
  }
 },
 "nbformat": 4,
 "nbformat_minor": 4
}
